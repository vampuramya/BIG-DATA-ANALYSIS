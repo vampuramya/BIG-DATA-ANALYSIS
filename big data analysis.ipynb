{
  "cells": [
    {
      "cell_type": "code",
      "execution_count": 6,
      "metadata": {
        "colab": {
          "base_uri": "https://localhost:8080/"
        },
        "id": "BOpAqgblQxS-",
        "outputId": "0946171e-ec18-4895-e64f-73e95bc6f724"
      },
      "outputs": [
        {
          "name": "stdout",
          "output_type": "stream",
          "text": [
            "Hit:1 http://security.ubuntu.com/ubuntu jammy-security InRelease\n",
            "Hit:2 http://archive.ubuntu.com/ubuntu jammy InRelease\n",
            "Hit:3 https://developer.download.nvidia.com/compute/cuda/repos/ubuntu2204/x86_64  InRelease\n",
            "Hit:4 https://cloud.r-project.org/bin/linux/ubuntu jammy-cran40/ InRelease\n",
            "Hit:5 https://r2u.stat.illinois.edu/ubuntu jammy InRelease\n",
            "Hit:6 http://archive.ubuntu.com/ubuntu jammy-updates InRelease\n",
            "Hit:7 http://archive.ubuntu.com/ubuntu jammy-backports InRelease\n",
            "Hit:8 https://ppa.launchpadcontent.net/deadsnakes/ppa/ubuntu jammy InRelease\n",
            "Hit:9 https://ppa.launchpadcontent.net/graphics-drivers/ppa/ubuntu jammy InRelease\n",
            "Hit:10 https://ppa.launchpadcontent.net/ubuntugis/ppa/ubuntu jammy InRelease\n",
            "Reading package lists... Done\n",
            "W: Skipping acquire of configured file 'main/source/Sources' as repository 'https://r2u.stat.illinois.edu/ubuntu jammy InRelease' does not seem to provide it (sources.list entry misspelt?)\n",
            "Reading package lists... Done\n",
            "Building dependency tree... Done\n",
            "Reading state information... Done\n",
            "openjdk-11-jdk is already the newest version (11.0.27+6~us1-0ubuntu1~22.04).\n",
            "0 upgraded, 0 newly installed, 0 to remove and 40 not upgraded.\n"
          ]
        }
      ],
      "source": [
        "# Install Spark and Java (only run once)\n",
        "!apt-get update\n",
        "!apt-get install openjdk-11-jdk -y\n",
        "!wget -q http://apache.mirrors.pair.com/spark/spark-3.3.2/spark-3.3.2-bin-hadoop3.tgz\n",
        "!tar xf spark-3.3.2-bin-hadoop3.tgz\n",
        "!pip install -q findspark\n",
        "\n",
        "# Set environment variables\n",
        "import os\n",
        "os.environ[\"JAVA_HOME\"] = \"/usr/lib/jvm/java-11-openjdk-amd64\"\n",
        "os.environ[\"SPARK_HOME\"] = \"/content/spark-3.3.2-bin-hadoop3\"\n",
        "\n",
        "import findspark\n",
        "findspark.init()\n"
      ]
    },
    {
      "cell_type": "code",
      "execution_count": 7,
      "metadata": {
        "id": "Un_eQrvPQ1yv"
      },
      "outputs": [],
      "source": [
        "from pyspark.sql import SparkSession\n",
        "\n",
        "spark = SparkSession.builder \\\n",
        "    .appName(\"Big Data Analysis with PySpark\") \\\n",
        "    .getOrCreate()\n"
      ]
    },
    {
      "cell_type": "code",
      "execution_count": 8,
      "metadata": {
        "colab": {
          "base_uri": "https://localhost:8080/"
        },
        "id": "BmyCKQzZQ67X",
        "outputId": "eb00b7a4-cb04-4f7e-e14b-820e7d94833d"
      },
      "outputs": [
        {
          "name": "stdout",
          "output_type": "stream",
          "text": [
            "+---------+--------+------------------+-----------+--------------+----------+----------+-------------+------------------+\n",
            "|longitude|latitude|housing_median_age|total_rooms|total_bedrooms|population|households|median_income|median_house_value|\n",
            "+---------+--------+------------------+-----------+--------------+----------+----------+-------------+------------------+\n",
            "|  -114.31|   34.19|              15.0|     5612.0|        1283.0|    1015.0|     472.0|       1.4936|           66900.0|\n",
            "|  -114.47|    34.4|              19.0|     7650.0|        1901.0|    1129.0|     463.0|         1.82|           80100.0|\n",
            "|  -114.56|   33.69|              17.0|      720.0|         174.0|     333.0|     117.0|       1.6509|           85700.0|\n",
            "|  -114.57|   33.64|              14.0|     1501.0|         337.0|     515.0|     226.0|       3.1917|           73400.0|\n",
            "|  -114.57|   33.57|              20.0|     1454.0|         326.0|     624.0|     262.0|        1.925|           65500.0|\n",
            "+---------+--------+------------------+-----------+--------------+----------+----------+-------------+------------------+\n",
            "only showing top 5 rows\n",
            "\n"
          ]
        }
      ],
      "source": [
        "# Load sample CSV (replace this with your file)\n",
        "df = spark.read.csv(\"/content/sample_data/california_housing_train.csv\", header=True, inferSchema=True)\n",
        "\n",
        "# Show top rows\n",
        "df.show(5)\n"
      ]
    },
    {
      "cell_type": "code",
      "execution_count": 9,
      "metadata": {
        "colab": {
          "base_uri": "https://localhost:8080/"
        },
        "id": "qDyPHLzYQ8_J",
        "outputId": "8a896be6-4181-40eb-f045-5b083d15fb23"
      },
      "outputs": [
        {
          "name": "stdout",
          "output_type": "stream",
          "text": [
            "root\n",
            " |-- longitude: double (nullable = true)\n",
            " |-- latitude: double (nullable = true)\n",
            " |-- housing_median_age: double (nullable = true)\n",
            " |-- total_rooms: double (nullable = true)\n",
            " |-- total_bedrooms: double (nullable = true)\n",
            " |-- population: double (nullable = true)\n",
            " |-- households: double (nullable = true)\n",
            " |-- median_income: double (nullable = true)\n",
            " |-- median_house_value: double (nullable = true)\n",
            "\n",
            "+-------+-------------------+------------------+------------------+-----------------+-----------------+------------------+-----------------+------------------+------------------+\n",
            "|summary|          longitude|          latitude|housing_median_age|      total_rooms|   total_bedrooms|        population|       households|     median_income|median_house_value|\n",
            "+-------+-------------------+------------------+------------------+-----------------+-----------------+------------------+-----------------+------------------+------------------+\n",
            "|  count|              17000|             17000|             17000|            17000|            17000|             17000|            17000|             17000|             17000|\n",
            "|   mean|-119.56210823529375|  35.6252247058827| 28.58935294117647|2643.664411764706|539.4108235294118|1429.5739411764705|501.2219411764706| 3.883578100000021|207300.91235294117|\n",
            "| stddev| 2.0051664084260357|2.1373397946570867|12.586936981660406|2179.947071452777|421.4994515798648| 1147.852959159527|384.5208408559016|1.9081565183791036|115983.76438720895|\n",
            "|    min|            -124.35|             32.54|               1.0|              2.0|              1.0|               3.0|              1.0|            0.4999|           14999.0|\n",
            "|    max|            -114.31|             41.95|              52.0|          37937.0|           6445.0|           35682.0|           6082.0|           15.0001|          500001.0|\n",
            "+-------+-------------------+------------------+------------------+-----------------+-----------------+------------------+-----------------+------------------+------------------+\n",
            "\n",
            "+------------------+-----------------------+\n",
            "|housing_median_age|avg(median_house_value)|\n",
            "+------------------+-----------------------+\n",
            "|               8.0|     190805.07303370786|\n",
            "|               7.0|       188445.059602649|\n",
            "|              49.0|      220667.6126126126|\n",
            "|              29.0|     195185.86363636365|\n",
            "|              47.0|     190064.61142857143|\n",
            "|              42.0|      199635.1103896104|\n",
            "|              44.0|     214909.50675675675|\n",
            "|              35.0|     205624.46242774566|\n",
            "|              18.0|     192074.71548117156|\n",
            "|              39.0|     206718.91390728476|\n",
            "|               1.0|               190250.0|\n",
            "|              34.0|     213061.61552028218|\n",
            "|              37.0|     209008.29977116705|\n",
            "|              25.0|      223097.2234273319|\n",
            "|              36.0|     208262.42237762237|\n",
            "|              41.0|      197328.9353448276|\n",
            "|               4.0|      230054.1055900621|\n",
            "|              23.0|      204621.7879581152|\n",
            "|              50.0|     222513.48214285713|\n",
            "|              45.0|     223464.74468085106|\n",
            "+------------------+-----------------------+\n",
            "only showing top 20 rows\n",
            "\n",
            "+---------+--------+------------------+-----------+--------------+----------+----------+-------------+------------------+\n",
            "|longitude|latitude|housing_median_age|total_rooms|total_bedrooms|population|households|median_income|median_house_value|\n",
            "+---------+--------+------------------+-----------+--------------+----------+----------+-------------+------------------+\n",
            "|  -116.26|   33.65|               3.0|     7437.0|        1222.0|     574.0|     302.0|      10.2948|          382400.0|\n",
            "|  -116.33|   33.72|              11.0|    12327.0|        2000.0|    2450.0|    1139.0|       7.4382|          353100.0|\n",
            "|  -116.37|   33.69|               7.0|     8806.0|        1542.0|     858.0|     448.0|       7.8005|          318100.0|\n",
            "|  -116.42|   33.76|              14.0|    16921.0|        2837.0|    2524.0|    1262.0|       7.6281|          341700.0|\n",
            "|  -116.43|   33.75|              24.0|     2596.0|         438.0|     473.0|     237.0|       3.7727|          500001.0|\n",
            "+---------+--------+------------------+-----------+--------------+----------+----------+-------------+------------------+\n",
            "only showing top 5 rows\n",
            "\n",
            "Correlation between median_income and median_house_value:\n",
            "0.6918706037806676\n"
          ]
        }
      ],
      "source": [
        "# Check schema\n",
        "df.printSchema()\n",
        "\n",
        "# Basic statistics\n",
        "df.describe().show()\n",
        "\n",
        "# Group by and aggregate example\n",
        "df.groupBy(\"housing_median_age\").avg(\"median_house_value\").show()\n",
        "\n",
        "# Filter example\n",
        "df.filter(df[\"median_house_value\"] > 300000).show(5)\n",
        "\n",
        "# Correlation\n",
        "print(\"Correlation between median_income and median_house_value:\")\n",
        "print(df.stat.corr(\"median_income\", \"median_house_value\"))\n"
      ]
    },
    {
      "cell_type": "code",
      "execution_count": 10,
      "metadata": {
        "id": "jCXvZeMRRBeG"
      },
      "outputs": [],
      "source": [
        "# Save processed data\n",
        "df.write.csv(\"/content/processed_housing_data\", header=True)\n"
      ]
    }
  ],
  "metadata": {
    "colab": {
      "provenance": []
    },
    "kernelspec": {
      "display_name": "Python 3",
      "name": "python3"
    },
    "language_info": {
      "name": "python"
    }
  },
  "nbformat": 4,
  "nbformat_minor": 0
}
